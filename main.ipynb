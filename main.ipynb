{
 "cells": [
  {
   "cell_type": "markdown",
   "metadata": {},
   "source": [
    "# Load, Split, and Balance"
   ]
  },
  {
   "cell_type": "code",
   "metadata": {
    "ExecuteTime": {
     "end_time": "2024-11-03T10:12:03.678991Z",
     "start_time": "2024-11-03T10:12:00.993218Z"
    }
   },
   "source": [
    "import pandas as pd\n",
    "import numpy as np\n",
    "from scipy.stats import logser\n",
    "from sklearn.preprocessing import LabelEncoder\n",
    "\n",
    "data = pd.read_csv('data.csv')\n",
    "\n",
    "# drop rows with missing values\n",
    "data = data.dropna()\n",
    "\n",
    "#encode the string data as integers\n",
    "label_encoder = LabelEncoder()\n",
    "data['State'] = label_encoder.fit_transform(data['State'])\n",
    "data['County'] = label_encoder.fit_transform(data['County'])"
   ],
   "outputs": [],
   "execution_count": 59
  },
  {
   "cell_type": "markdown",
   "metadata": {},
   "source": [
    "For now, we've decided to keep the county variable because by keeping the county variable, we could find patterns or trends specific to that county that would otherwise be lost if we removed the variable. However, since there are so many counties, it could make the model more complex and this could lead to overfitting. If it ends up causing overfitting, we'll consider removing it later."
   ]
  },
  {
   "cell_type": "markdown",
   "metadata": {},
   "source": [
    "### Balancing Dataset\n",
    "\n",
    "We chose to use quantization thresholds for the ChildPoverty variable and divided them into 4 classes. By doing this, we ensure that each class has an approximately equal number of instances, which helps in balancing the dataset. Also, by using quantization thresholds we deal with the continuous variables by converting them into categorical variables, making them suitable for classification tasks."
   ]
  },
  {
   "cell_type": "markdown",
   "metadata": {},
   "source": [
    "We should only balance the training dataset because this ensures that model learns equally from all classes, preventing bias towards any particular class. We shouldn't balance the test dataset because it should  represent the real-world distribution of the data. Balancing the testing set would artificially alter the distribution of classes, leading to a bias in the model's performance."
   ]
  },
  {
   "cell_type": "code",
   "metadata": {
    "ExecuteTime": {
     "end_time": "2024-11-03T10:12:06.717031Z",
     "start_time": "2024-11-03T10:12:06.226867Z"
    }
   },
   "source": [
    "from sklearn.model_selection import train_test_split\n",
    "\n",
    "data['ChildPovertyClass'] = pd.qcut(data['ChildPoverty'], 4, labels=False)\n",
    "train_data, test_data = train_test_split(data, test_size=0.2, random_state=42, stratify=data['ChildPovertyClass'])\n",
    "\n",
    "# Balance the training set\n",
    "train_data = train_data.groupby('ChildPovertyClass').apply(lambda x: x.sample(train_data['ChildPovertyClass'].value_counts().min())).reset_index(drop=True)"
   ],
   "outputs": [
    {
     "name": "stderr",
     "output_type": "stream",
     "text": [
      "/var/folders/c1/3wd_vs5n1wx3r37tqm98mpnw0000gn/T/ipykernel_2065/1201866809.py:7: DeprecationWarning: DataFrameGroupBy.apply operated on the grouping columns. This behavior is deprecated, and in a future version of pandas the grouping columns will be excluded from the operation. Either pass `include_groups=False` to exclude the groupings or explicitly select the grouping columns after groupby to silence this warning.\n",
      "  train_data = train_data.groupby('ChildPovertyClass').apply(lambda x: x.sample(train_data['ChildPovertyClass'].value_counts().min())).reset_index(drop=True)\n"
     ]
    }
   ],
   "execution_count": 60
  },
  {
   "cell_type": "markdown",
   "metadata": {},
   "source": [
    "## MLP "
   ]
  },
  {
   "cell_type": "code",
   "metadata": {
    "ExecuteTime": {
     "end_time": "2024-11-03T10:15:02.951786Z",
     "start_time": "2024-11-03T10:12:08.835147Z"
    }
   },
   "source": [
    "import numpy as np\n",
    "from scipy.special import expit\n",
    "import sys\n",
    "import pandas as pd\n",
    "from sklearn.metrics import accuracy_score\n",
    "import matplotlib.pyplot as plt\n",
    "\n",
    "\n",
    "## this code is taken directly from the Github\n",
    "class TwoLayerPerceptronBase(object):\n",
    "    def __init__(self, n_hidden=30,\n",
    "                 C=0.0, epochs=500, eta=0.001, random_state=None):\n",
    "        np.random.seed(random_state)\n",
    "        \n",
    "        self.n_hidden = n_hidden\n",
    "        self.l2_C = C\n",
    "        self.epochs = epochs\n",
    "        self.eta = eta\n",
    "        \n",
    "\n",
    "    def _initialize_weights(self):\n",
    "        \"\"\"Initialize weights with Glorot.\"\"\"\n",
    "        limit1 = np.sqrt(6 / (self.n_features_ + self.n_hidden))\n",
    "        W1 = np.random.uniform(-limit1, limit1, (self.n_hidden, self.n_features_))\n",
    "        b1 = np.zeros((self.n_hidden, 1))\n",
    "        \n",
    "        limit2 = np.sqrt(6 / (self.n_hidden + self.n_output_))\n",
    "        W2 = np.random.uniform(-limit2, limit2, (self.n_output_, self.n_hidden))\n",
    "        b2 = np.zeros((self.n_output_, 1))\n",
    "        \n",
    "        return W1, W2, b1, b2\n",
    "    \n",
    "    @staticmethod\n",
    "    def _sigmoid(z):\n",
    "        \"\"\"Use scipy.special.expit to avoid overflow\"\"\"\n",
    "        # 1.0 / (1.0 + np.exp(-z))\n",
    "        return expit(z)\n",
    "    \n",
    "    \n",
    "    @staticmethod\n",
    "    def _L2_reg(lambda_, W1, W2):\n",
    "        \"\"\"Compute L2-regularization cost\"\"\"\n",
    "        # only compute for non-bias terms\n",
    "        return (lambda_) * np.sqrt(np.mean(W1 ** 2) + np.mean(W2 ** 2))\n",
    "    \n",
    "    def _cost(self,A3,Y,W1,W2):\n",
    "        '''Get the objective function value'''\n",
    "        m = y.shape[0]\n",
    "        y_expanded = np.zeros_like(A3)\n",
    "        y_expanded[y, np.arange(m)] = 1\n",
    "        \n",
    "        # Binary cross-entropy for each class prediction\n",
    "        log_probs = -y_expanded * np.log(A3) - (1 - y_expanded) * np.log(1 - A3)\n",
    "        cost = np.sum(log_probs) / m\n",
    "        L2_term = self._L2_reg(self.l2_C, W1, W2)\n",
    "        return cost + L2_term\n",
    "    \n",
    "# now let's add in the following functions:\n",
    "#    feedforward\n",
    "#    fit and predict\n",
    "class TwoLayerPerceptron(TwoLayerPerceptronBase):\n",
    "    def _feedforward(self, X, W1, W2, b1, b2):\n",
    "        \"\"\"Compute feedforward step\n",
    "        -----------\n",
    "        X : Input layer with original features.\n",
    "        W1: Weight matrix for input layer -> hidden layer.\n",
    "        W2: Weight matrix for hidden layer -> output layer.\n",
    "        ----------\n",
    "        a1-a3 : activations into layer (or output layer)\n",
    "        z1-z2 : layer inputs \n",
    "\n",
    "        \"\"\"\n",
    "        A1 = X.T\n",
    "        Z1 = W1 @ A1 + b1\n",
    "        A2 = self._sigmoid(Z1)\n",
    "        Z2 = W2 @ A2 + b2\n",
    "        A3 = self._sigmoid(Z2).reshape(self.n_output_, -1)\n",
    "        return A1, Z1, A2, Z2, A3\n",
    "    \n",
    "    def predict(self, X):\n",
    "        \"\"\"Predict class labels\"\"\"\n",
    "        X = X.values\n",
    "        _, _, _, _, A3 = self._feedforward(X, self.W1, self.W2, self.b1, self.b2)\n",
    "        y_pred = np.argmax(A3, axis=0) if A3.shape[0] == self.n_output_ else np.argmax(A3.T, axis=1)\n",
    "        return y_pred\n",
    "    \n",
    "    \n",
    " \n",
    "            \n",
    "class TwoLayerPerceptronVectorized(TwoLayerPerceptron):\n",
    "    def _get_gradient(self, A1, A2, A3, Z1, Z2, Y, W1, W2):\n",
    "        \"\"\" Compute gradient step using backpropagation.\n",
    "        \"\"\"\n",
    "\n",
    "        m = Y.shape[0]\n",
    "        Y_expanded = np.zeros_like(A3)\n",
    "        Y_expanded[Y, np.arange(m)] = 1\n",
    "        # vectorized backpropagation\n",
    "        V2 = (A3 - Y_expanded) * A3 * (1 - A3)\n",
    "        V1 = (W2.T @ V2) * A2 * (1 - A2)\n",
    "        \n",
    "        gradW2 = V2 @ A2.T / m\n",
    "        gradW1 = V1 @ A1.T / m\n",
    "        \n",
    "        gradb2 = np.sum(V2, axis=1).reshape((-1,1)) / m\n",
    "        gradb1 = np.sum(V1, axis=1).reshape((-1,1)) / m\n",
    "        \n",
    "        \n",
    "        # regularize weights that are not bias terms\n",
    "        gradW1 += self.l2_C * W1\n",
    "        gradW2 += self.l2_C * W2\n",
    "        return gradW1, gradW2, gradb1, gradb2\n",
    "    \n",
    "    def _initialize_weights(self):\n",
    "        \"\"\"Initialize weights with Glorot initialization.\"\"\"\n",
    "        limit1 = np.sqrt(6 / (self.n_features_ + self.n_hidden))\n",
    "        self.W1 = np.random.uniform(-limit1, limit1, (self.n_hidden, self.n_features_))\n",
    "        self.b1 = np.zeros((self.n_hidden, 1))\n",
    "        \n",
    "        limit2 = np.sqrt(6 / (self.n_hidden + self.n_output_))\n",
    "        self.W2 = np.random.uniform(-limit2, limit2, (self.n_output_, self.n_hidden))\n",
    "        self.b2 = np.zeros((self.n_output_, 1))\n",
    "        return self.W1, self.W2, self.b1, self.b2\n",
    "    \n",
    "    def _cost(self, A3, y, W1, W2):\n",
    "        \"\"\"Cross-entropy loss without one-hot encoding.\"\"\"\n",
    "        m = y.shape[0]\n",
    "        log_probs = -np.log(A3[y, np.arange(m)])\n",
    "        cost = np.sum(log_probs) / m\n",
    "        L2_term = self._L2_reg(self.l2_C, W1, W2)\n",
    "        return cost + L2_term\n",
    "    \n",
    "    def fit(self, X, y, batch_size=32, print_progress=False):\n",
    "        \"\"\"Training without one-hot encoding\"\"\"\n",
    "        X_data, y_data = X.values, y.values\n",
    "        \n",
    "        # Initialize weights\n",
    "        self.n_features_ = X_data.shape[1]\n",
    "        self.n_output_ = len(np.unique(y_data))  # Set output to number of classes\n",
    "        self.W1, self.W2, self.b1, self.b2 = self._initialize_weights()\n",
    "        \n",
    "        self.cost_ = []\n",
    "        \n",
    "        for i in range(self.epochs):\n",
    "            indices = np.arange(X_data.shape[0])\n",
    "            np.random.shuffle(indices)\n",
    "            \n",
    "            for start_idx in range(0, indices.shape[0] - batch_size + 1, batch_size):\n",
    "                batch_idx = indices[start_idx:start_idx + batch_size]\n",
    "                A1, Z1, A2, Z2, A3 = self._feedforward(X_data[batch_idx], self.W1, self.W2, self.b1, self.b2)\n",
    "                \n",
    "                cost = self._cost(A3, y_data[batch_idx], self.W1, self.W2)\n",
    "                self.cost_.append(cost)\n",
    "                \n",
    "                gradW1, gradW2, gradb1, gradb2 = self._get_gradient(A1=A1, A2=A2, A3=A3, Z1=Z1, Z2=Z2, \n",
    "                                                                    Y=y_data[batch_idx], W1=self.W1, W2=self.W2)\n",
    "                \n",
    "                self.W1 -= self.eta * gradW1\n",
    "                self.W2 -= self.eta * gradW2\n",
    "                self.b1 -= self.eta * gradb1\n",
    "                self.b2 -= self.eta * gradb2\n",
    "            \n",
    "            if print_progress and (i + 1) % print_progress == 0:\n",
    "                sys.stderr.write(f'\\rEpoch: {i + 1}/{self.epochs}')\n",
    "                sys.stderr.flush()\n",
    "                \n",
    "        return self\n",
    "\n",
    "X_train = train_data.drop(columns=['ChildPovertyClass'])\n",
    "y_train = train_data['ChildPovertyClass']\n",
    "X_test = test_data.drop(columns=['ChildPovertyClass'])\n",
    "y_test = test_data['ChildPovertyClass']\n",
    "\n",
    "params = dict(n_hidden=50, \n",
    "              C=0.1, # tradeoff L2 regularizer\n",
    "              epochs=400, # iterations\n",
    "              eta=0.001,  # learning rate\n",
    "              random_state=1)\n",
    "\n",
    "nn = TwoLayerPerceptronVectorized(**params)\n",
    "\n",
    "nn.fit(X_train, y_train, batch_size=32, print_progress=50)\n",
    "yhat = nn.predict(X_test)\n",
    "accuracy = accuracy_score(y_test, yhat)\n",
    "print(f'Accuracy: {accuracy}')\n",
    "\n",
    "plt.plot(nn.cost_)\n",
    "plt.xlabel('Epochs')\n",
    "plt.ylabel('Loss')\n",
    "plt.title('Loss Convergence')\n",
    "plt.show()\n",
    "\n",
    "    "
   ],
   "outputs": [
    {
     "name": "stderr",
     "output_type": "stream",
     "text": [
      "Epoch: 400/400"
     ]
    },
    {
     "name": "stdout",
     "output_type": "stream",
     "text": [
      "Accuracy: 0.2495874587458746\n"
     ]
    },
    {
     "data": {
      "text/plain": [
       "<Figure size 640x480 with 1 Axes>"
      ],
      "image/png": "[encoded data removed]"
     },
     "metadata": {},
     "output_type": "display_data"
    }
   ],
   "execution_count": 61
  },
  {
   "cell_type": "markdown",
   "metadata": {},
   "source": [
    "# Normalized MLP\n"
   ]
  },
  {
   "cell_type": "code",
   "metadata": {
    "ExecuteTime": {
     "end_time": "2024-11-03T10:20:25.462253Z",
     "start_time": "2024-11-03T10:17:45.778367Z"
    }
   },
   "source": [
    "from sklearn.preprocessing import StandardScaler\n",
    "\n",
    "numeric_features = train_data.select_dtypes(include=['float64', 'int']).columns\n",
    "\n",
    "scaler = StandardScaler()\n",
    "X_train_normalized = scaler.fit_transform(train_data[numeric_features])\n",
    "X_test_normalized = scaler.transform(test_data[numeric_features])\n",
    "X_train_normalized = pd.DataFrame(X_train_normalized, columns=numeric_features)\n",
    "X_test_normalized = pd.DataFrame(X_test_normalized, columns=numeric_features)\n",
    "\n",
    "y_train = train_data['ChildPovertyClass']\n",
    "y_test = test_data['ChildPovertyClass']\n",
    "\n",
    "nn = TwoLayerPerceptronVectorized(**params)\n",
    "nn.fit(X_train_normalized, y_train, batch_size=32, print_progress=50)\n",
    "\n",
    "yhat = nn.predict(X_test_normalized)\n",
    "accuracy = accuracy_score(y_test, yhat)\n",
    "print(f'Accuracy: {accuracy}')\n",
    "\n",
    "plt.plot(nn.cost_)\n",
    "plt.xlabel('Epochs')\n",
    "plt.ylabel('Loss')\n",
    "plt.title('Loss Convergence')\n",
    "plt.show()\n"
   ],
   "outputs": [
    {
     "name": "stderr",
     "output_type": "stream",
     "text": [
      "Epoch: 400/400"
     ]
    },
    {
     "name": "stdout",
     "output_type": "stream",
     "text": [
      "Accuracy: 0.24986248624862487\n"
     ]
    },
    {
     "data": {
      "text/plain": [
       "<Figure size 640x480 with 1 Axes>"
      ],
      "image/png": "[encoded data removed]"
     },
     "metadata": {},
     "output_type": "display_data"
    }
   ],
   "execution_count": 63
  },
  {
   "cell_type": "markdown",
   "metadata": {},
   "source": [
    "# Normalized + One Hot encoding"
   ]
  },
  {
   "cell_type": "code",
   "metadata": {
    "ExecuteTime": {
     "end_time": "2024-11-03T10:23:19.734424Z",
     "start_time": "2024-11-03T10:20:33.413559Z"
    }
   },
   "source": [
    "numeric_features = train_data.select_dtypes(include=['float64', 'int']).columns.difference(['State', 'County'])\n",
    "\n",
    "scaler = StandardScaler()\n",
    "X_train_numeric = scaler.fit_transform(train_data[numeric_features])\n",
    "X_test_numeric = scaler.transform(test_data[numeric_features])\n",
    "\n",
    "X_train_categorical = pd.get_dummies(train_data[['State', 'County']])\n",
    "X_test_categorical = pd.get_dummies(test_data[['State', 'County']])\n",
    "\n",
    "X_train_categorical, X_test_categorical = X_train_categorical.align(X_test_categorical, join='left', axis=1, fill_value=0)\n",
    "\n",
    "X_train_processed = pd.DataFrame(X_train_numeric, columns=numeric_features).join(X_train_categorical)\n",
    "X_test_processed = pd.DataFrame(X_test_numeric, columns=numeric_features).join(X_test_categorical)\n",
    "\n",
    "\n",
    "y_train = train_data['ChildPovertyClass']\n",
    "y_test = test_data['ChildPovertyClass']\n",
    "\n",
    "nn = TwoLayerPerceptronVectorized(**params)\n",
    "nn.fit(X_train_processed, y_train, batch_size=32, print_progress=50)\n",
    "\n",
    "yhat = nn.predict(X_test_processed)\n",
    "accuracy = accuracy_score(y_test, yhat)\n",
    "print(f'Accuracy: {accuracy}')\n",
    "\n",
    "plt.plot(nn.cost_)\n",
    "plt.xlabel('Epochs')\n",
    "plt.ylabel('Loss')\n",
    "plt.title('Loss Convergence')\n",
    "plt.show()\n"
   ],
   "outputs": [
    {
     "name": "stderr",
     "output_type": "stream",
     "text": [
      "Epoch: 400/400"
     ]
    },
    {
     "name": "stdout",
     "output_type": "stream",
     "text": [
      "Accuracy: 0.24828107810781078\n"
     ]
    },
    {
     "data": {
      "text/plain": [
       "<Figure size 640x480 with 1 Axes>"
      ],
      "image/png": "[encoded data removed]"
     },
     "metadata": {},
     "output_type": "display_data"
    }
   ],
   "execution_count": 64
  },
  {
   "metadata": {},
   "cell_type": "markdown",
   "source": "# Modeling"
  },
  {
   "metadata": {},
   "cell_type": "markdown",
   "source": "### Three Layer Perceptron"
  },
  {
   "metadata": {
    "ExecuteTime": {
     "end_time": "2024-11-03T10:28:43.099064Z",
     "start_time": "2024-11-03T10:23:54.580020Z"
    }
   },
   "cell_type": "code",
   "source": [
    "class ThreeLayerPerceptronBase(TwoLayerPerceptronBase):\n",
    "    def __init__(self, n_hidden=30, n_hidden2=30, C=0.0, epochs=500, eta=0.001, random_state=None):\n",
    "        super().__init__(n_hidden=n_hidden, C=C, epochs=epochs, eta=eta, random_state=random_state)\n",
    "        self.n_hidden2 = n_hidden2\n",
    "\n",
    "    def _initialize_weights(self):\n",
    "        \"\"\"Initialize weights for three layers.\"\"\"\n",
    "        limit1 = np.sqrt(6 / (self.n_features_ + self.n_hidden))\n",
    "        W1 = np.random.uniform(-limit1, limit1, (self.n_hidden, self.n_features_))\n",
    "        b1 = np.zeros((self.n_hidden, 1))\n",
    "        \n",
    "        limit2 = np.sqrt(6 / (self.n_hidden + self.n_hidden2))\n",
    "        W2 = np.random.uniform(-limit2, limit2, (self.n_hidden2, self.n_hidden))\n",
    "        b2 = np.zeros((self.n_hidden2, 1))\n",
    "\n",
    "        limit3 = np.sqrt(6 / (self.n_hidden2 + self.n_output_))\n",
    "        W3 = np.random.uniform(-limit3, limit3, (self.n_output_, self.n_hidden2))\n",
    "        b3 = np.zeros((self.n_output_, 1))\n",
    "        \n",
    "        return W1, W2, W3, b1, b2, b3\n",
    "    \n",
    "    @staticmethod\n",
    "    def _L2_reg(lambda_, W1, W2, W3):\n",
    "        \"\"\"Compute L2-regularization cost for three layers.\"\"\"\n",
    "        return (lambda_) * np.sqrt(np.mean(W1 ** 2) + np.mean(W2 ** 2) + np.mean(W3 ** 2))\n",
    "    \n",
    "    def _cost(self, A4, Y, W1, W2, W3):\n",
    "        \"\"\"Get the objective function value for three layers.\"\"\"\n",
    "        m = Y.shape[0]\n",
    "        # Y_expanded = np.zeros_like(A4)\n",
    "        # Y_expanded[Y, np.arange(m)] = 1\n",
    "        # log_probs = -Y_expanded.log(A4) - (1 - Y_expanded) * np.log(1 - A4)\n",
    "        log_probs = -np.log(A4[Y, np.arange(m)])\n",
    "        cost = np.sum(log_probs) / m\n",
    "        L2_term = self._L2_reg(self.l2_C, W1, W2, W3)\n",
    "        return cost + L2_term\n",
    "    \n",
    "class ThreeLayerPerceptron(ThreeLayerPerceptronBase):\n",
    "    def _feedforward(self, X, W1, W2, W3, b1, b2, b3):\n",
    "        \"\"\"Compute feedforward step for three layers.\"\"\"\n",
    "        A1 = X.T\n",
    "        Z1 = W1 @ A1 + b1\n",
    "        A2 = self._sigmoid(Z1)\n",
    "        Z2 = W2 @ A2 + b2\n",
    "        A3 = self._sigmoid(Z2)\n",
    "        Z3 = W3 @ A3 + b3\n",
    "        A4 = self._sigmoid(Z3).reshape(self.n_output_, -1)\n",
    "        return A1, Z1, A2, Z2, A3, Z3, A4\n",
    "    \n",
    "    def predict(self, X):\n",
    "        \"\"\"Predict class labels for three layers.\"\"\"\n",
    "        X = X.values\n",
    "        _, _, _, _, _, _, A4 = self._feedforward(X, self.W1, self.W2, self.W3, self.b1, self.b2, self.b3)\n",
    "        y_pred = np.argmax(A4, axis=0) if A4.shape[0] == self.n_output_ else np.argmax(A4.T, axis=1)\n",
    "        return y_pred\n",
    "    \n",
    "class ThreeLayerPerceptronVectorized(ThreeLayerPerceptron):\n",
    "    def _get_gradient(self, A1, A2, A3, A4, Z1, Z2, Z3, Y, W1, W2, W3):\n",
    "        \"\"\"Compute gradient step using backpropagation for three layers.\"\"\"\n",
    "        m = Y.shape[0]\n",
    "        Y_expanded = np.zeros_like(A4)\n",
    "        Y_expanded[Y, np.arange(m)] = 1\n",
    "        # vectorized backpropagation\n",
    "        V3 = (A4 - Y_expanded) * A4 * (1 - A4)\n",
    "        V2 = (W3.T @ V3) * A3 * (1 - A3)\n",
    "        V1 = (W2.T @ V2) * A2 * (1 - A2)\n",
    "        \n",
    "        gradW3 = V3 @ A3.T / m\n",
    "        gradW2 = V2 @ A2.T / m\n",
    "        gradW1 = V1 @ A1.T / m\n",
    "        \n",
    "        gradb3 = np.sum(V3, axis=1).reshape((-1,1)) / m\n",
    "        gradb2 = np.sum(V2, axis=1).reshape((-1,1)) / m\n",
    "        gradb1 = np.sum(V1, axis=1).reshape((-1,1)) / m\n",
    "        \n",
    "        # regularize weights that are not bias terms\n",
    "        gradW1 += self.l2_C * W1\n",
    "        gradW2 += self.l2_C * W2\n",
    "        gradW3 += self.l2_C * W3\n",
    "        \n",
    "        return gradW1, gradW2, gradW3, gradb1, gradb2, gradb3\n",
    "    \n",
    "    def fit(self, X, y, batch_size=32, print_progress=False):\n",
    "        \"\"\"Training without one-hot encoding for three layers.\"\"\"\n",
    "        X_data, y_data = X.values, y.values\n",
    "        \n",
    "        # Initialize weights\n",
    "        self.n_features_ = X_data.shape[1]\n",
    "        self.n_output_ = len(np.unique(y_data))  # Set output to number of classes\n",
    "        self.W1, self.W2, self.W3, self.b1, self.b2, self.b3 = self._initialize_weights()\n",
    "        \n",
    "        self.cost_ = []\n",
    "        self.grads_ = []\n",
    "        \n",
    "        for i in range(self.epochs):\n",
    "            indices = np.arange(X_data.shape[0])\n",
    "            np.random.shuffle(indices)\n",
    "            for start_idx in range(0, indices.shape[0] - batch_size + 1, batch_size):\n",
    "                batch_idx = indices[start_idx:start_idx + batch_size]\n",
    "                A1, Z1, A2, Z2, A3, Z3, A4 = self._feedforward(X_data[batch_idx], self.W1, self.W2, self.W3, self.b1, self.b2, self.b3)\n",
    "                \n",
    "                cost = self._cost(A4, y_data[batch_idx], self.W1, self.W2, self.W3)\n",
    "                self.cost_.append(cost)\n",
    "                \n",
    "                gradW1, gradW2, gradW3, gradb1, gradb2, gradb3 = self._get_gradient(A1=A1, A2=A2, A3=A3, A4=A4, Z1=Z1, Z2=Z2, Z3=Z3,\n",
    "                                                                                    Y=y_data[batch_idx], W1=self.W1, W2=self.W2, W3=self.W3)\n",
    "                \n",
    "                self.W1 -= self.eta * gradW1\n",
    "                self.W2 -= self.eta * gradW2\n",
    "                self.W3 -= self.eta * gradW3\n",
    "                self.b1 -= self.eta * gradb1\n",
    "                self.b2 -= self.eta * gradb2\n",
    "                self.b3 -= self.eta * gradb3\n",
    "                \n",
    "                grads = [\n",
    "                    np.mean(np.abs(gradW1)), \n",
    "                    np.mean(np.abs(gradW2)),\n",
    "                    np.mean(np.abs(gradW3))\n",
    "                ]\n",
    "                self.grads_.append(grads)\n",
    "                \n",
    "            if print_progress and (i + 1) % print_progress == 0:\n",
    "                sys.stderr.write(f'\\rEpoch: {i + 1}/{self.epochs}')\n",
    "                sys.stderr.flush()\n",
    "                    \n",
    "        return self\n",
    "    \n",
    "\n",
    "X_train = train_data.drop(columns=['ChildPovertyClass'])\n",
    "y_train = train_data['ChildPovertyClass']\n",
    "X_test = test_data.drop(columns=['ChildPovertyClass'])\n",
    "y_test = test_data['ChildPovertyClass']\n",
    "\n",
    "params = dict(n_hidden=50, n_hidden2=50, C=0.1, epochs=400, eta=0.001, random_state=1)\n",
    "\n",
    "nn_3 = ThreeLayerPerceptronVectorized(**params)\n",
    "\n",
    "nn_3.fit(X_train, y_train, batch_size=32, print_progress=50)\n",
    "yhat = nn_3.predict(X_test)\n",
    "accuracy = accuracy_score(y_test, yhat)\n",
    "print(f'Accuracy: {accuracy}')\n",
    "\n",
    "plt.plot(nn_3.cost_)\n",
    "plt.xlabel('Epochs')\n",
    "plt.ylabel('Loss')\n",
    "plt.title('Three Layer Loss Convergence')\n",
    "plt.show()\n",
    "\n",
    "          "
   ],
   "outputs": [
    {
     "name": "stderr",
     "output_type": "stream",
     "text": [
      "Epoch: 400/400"
     ]
    },
    {
     "name": "stdout",
     "output_type": "stream",
     "text": [
      "Accuracy: 0.24986248624862487\n"
     ]
    },
    {
     "data": {
      "text/plain": [
       "<Figure size 640x480 with 1 Axes>"
      ],
      "image/png": "[encoded data removed]"
     },
     "metadata": {},
     "output_type": "display_data"
    }
   ],
   "execution_count": 65
  },
  {
   "metadata": {
    "ExecuteTime": {
     "end_time": "2024-11-03T10:11:20.559959Z",
     "start_time": "2024-11-03T10:11:20.177341Z"
    }
   },
   "cell_type": "code",
   "source": [
    "# average gradient magnitudes\n",
    "grads = np.array(nn.grads_)\n",
    "plt.plot(grads[:, 0], label='Hidden Layer 1')\n",
    "plt.plot(grads[:, 1], label='Hidden Layer 2')\n",
    "plt.plot(grads[:, 2], label='Output Layer')\n",
    "plt.xlabel('Iterations')\n",
    "plt.ylabel('Average gradient magnitude')\n",
    "plt.legend()\n",
    "plt.title('Gradient Descent Convergence')\n",
    "plt.show()\n"
   ],
   "outputs": [
    {
     "ename": "AttributeError",
     "evalue": "'TwoLayerPerceptronVectorized' object has no attribute 'grads_'",
     "output_type": "error",
     "traceback": [
      "\u001B[0;31m---------------------------------------------------------------------------\u001B[0m",
      "\u001B[0;31mAttributeError\u001B[0m                            Traceback (most recent call last)",
      "Cell \u001B[0;32mIn[58], line 2\u001B[0m\n\u001B[1;32m      1\u001B[0m \u001B[38;5;66;03m# average gradient magnitudes\u001B[39;00m\n\u001B[0;32m----> 2\u001B[0m grads \u001B[38;5;241m=\u001B[39m np\u001B[38;5;241m.\u001B[39marray(\u001B[43mnn\u001B[49m\u001B[38;5;241;43m.\u001B[39;49m\u001B[43mgrads_\u001B[49m)\n\u001B[1;32m      3\u001B[0m plt\u001B[38;5;241m.\u001B[39mplot(grads[:, \u001B[38;5;241m0\u001B[39m], label\u001B[38;5;241m=\u001B[39m\u001B[38;5;124m'\u001B[39m\u001B[38;5;124mHidden Layer 1\u001B[39m\u001B[38;5;124m'\u001B[39m)\n\u001B[1;32m      4\u001B[0m plt\u001B[38;5;241m.\u001B[39mplot(grads[:, \u001B[38;5;241m1\u001B[39m], label\u001B[38;5;241m=\u001B[39m\u001B[38;5;124m'\u001B[39m\u001B[38;5;124mHidden Layer 2\u001B[39m\u001B[38;5;124m'\u001B[39m)\n",
      "\u001B[0;31mAttributeError\u001B[0m: 'TwoLayerPerceptronVectorized' object has no attribute 'grads_'"
     ]
    }
   ],
   "execution_count": 58
  },
  {
   "metadata": {},
   "cell_type": "markdown",
   "source": "### Four Layer Perceptron"
  },
  {
   "metadata": {
    "ExecuteTime": {
     "end_time": "2024-11-03T10:36:23.295373Z",
     "start_time": "2024-11-03T10:30:33.878742Z"
    }
   },
   "cell_type": "code",
   "source": [
    "class FourLayerPerceptronBase(ThreeLayerPerceptronBase):\n",
    "    def __init__(self, n_hidden=30, n_hidden2=30, n_hidden3=30, C=0.0, epochs=500, eta=0.001, random_state=None):\n",
    "        super().__init__(n_hidden=n_hidden, n_hidden2=n_hidden2, C=C, epochs=epochs, eta=eta, random_state=random_state)\n",
    "        self.n_hidden3 = n_hidden3\n",
    "\n",
    "    def _initialize_weights(self):\n",
    "        \"\"\"Initialize weights for four layers.\"\"\"\n",
    "        limit1 = np.sqrt(6 / (self.n_features_ + self.n_hidden))\n",
    "        W1 = np.random.uniform(-limit1, limit1, (self.n_hidden, self.n_features_))\n",
    "        b1 = np.zeros((self.n_hidden, 1))\n",
    "        \n",
    "        limit2 = np.sqrt(6 / (self.n_hidden + self.n_hidden2))\n",
    "        W2 = np.random.uniform(-limit2, limit2, (self.n_hidden2, self.n_hidden))\n",
    "        b2 = np.zeros((self.n_hidden2, 1))\n",
    "\n",
    "        limit3 = np.sqrt(6 / (self.n_hidden2 + self.n_hidden3))\n",
    "        W3 = np.random.uniform(-limit3, limit3, (self.n_hidden3, self.n_hidden2))\n",
    "        b3 = np.zeros((self.n_hidden3, 1))\n",
    "\n",
    "        limit4 = np.sqrt(6 / (self.n_hidden3 + self.n_output_))\n",
    "        W4 = np.random.uniform(-limit4, limit4, (self.n_output_, self.n_hidden3))\n",
    "        b4 = np.zeros((self.n_output_, 1))\n",
    "        \n",
    "        return W1, W2, W3, W4, b1, b2, b3, b4\n",
    "    \n",
    "    @staticmethod\n",
    "    def _L2_reg(lambda_, W1, W2, W3, W4):\n",
    "        \"\"\"Compute L2-regularization cost for four layers.\"\"\"\n",
    "        return (lambda_) * np.sqrt(np.mean(W1 ** 2) + np.mean(W2 ** 2) + np.mean(W3 ** 2) + np.mean(W4 ** 2))\n",
    "    \n",
    "    def _cost(self, A5, Y, W1, W2, W3, W4):\n",
    "        \"\"\"Get the objective function value for four layers.\"\"\"\n",
    "        m = Y.shape[0]\n",
    "        log_probs = -np.log(A5[Y, np.arange(m)])\n",
    "        cost = np.sum(log_probs) / m\n",
    "        L2_term = self._L2_reg(self.l2_C, W1, W2, W3, W4)\n",
    "        return cost + L2_term\n",
    "    \n",
    "class FourLayerPerceptron(FourLayerPerceptronBase):\n",
    "    def _feedforward(self, X, W1, W2, W3, W4, b1, b2, b3, b4):\n",
    "        \"\"\"Compute feedforward step for four layers.\"\"\"\n",
    "        A1 = X.T\n",
    "        Z1 = W1 @ A1 + b1\n",
    "        A2 = self._sigmoid(Z1)\n",
    "        Z2 = W2 @ A2 + b2\n",
    "        A3 = self._sigmoid(Z2)\n",
    "        Z3 = W3 @ A3 + b3\n",
    "        A4 = self._sigmoid(Z3)\n",
    "        Z4 = W4 @ A4 + b4\n",
    "        A5 = self._sigmoid(Z4).reshape(self.n_output_, -1)\n",
    "        return A1, Z1, A2, Z2, A3, Z3, A4, Z4, A5\n",
    "    \n",
    "    def predict(self, X):\n",
    "        \"\"\"Predict class labels for four layers.\"\"\"\n",
    "        X = X.values\n",
    "        _, _, _, _, _, _, _, _, A5 = self._feedforward(X, self.W1, self.W2, self.W3, self.W4, self.b1, self.b2, self.b3, self.b4)\n",
    "        y_pred = np.argmax(A5, axis=0) if A5.shape[0] == self.n_output_ else np.argmax(A5.T, axis=1)\n",
    "        return y_pred\n",
    "    \n",
    "        \n",
    "class FourLayerPerceptronVectorized(FourLayerPerceptron):\n",
    "    def _get_gradient(self, A1, A2, A3, A4, A5, Z1, Z2, Z3, Z4, Y, W1, W2, W3, W4):\n",
    "        \"\"\"Compute gradient step using backpropagation for four layers.\"\"\"\n",
    "        m = Y.shape[0]\n",
    "        Y_expanded = np.zeros_like(A5)\n",
    "        Y_expanded[Y, np.arange(m)] = 1\n",
    "        # vectorized backpropagation\n",
    "        V4 = (A5 - Y_expanded) * A5 * (1 - A5)\n",
    "        V3 = (W4.T @ V4) * A4 * (1 - A4)\n",
    "        V2 = (W3.T @ V3) * A3 * (1 - A3)\n",
    "        V1 = (W2.T @ V2) * A2 * (1 - A2)\n",
    "        \n",
    "        gradW4 = V4 @ A4.T / m\n",
    "        gradW3 = V3 @ A3.T / m\n",
    "        gradW2 = V2 @ A2.T / m\n",
    "        gradW1 = V1 @ A1.T / m\n",
    "        \n",
    "        gradb4 = np.sum(V4, axis=1).reshape((-1,1)) / m\n",
    "        gradb3 = np.sum(V3, axis=1).reshape((-1,1)) / m\n",
    "        gradb2 = np.sum(V2, axis=1).reshape((-1,1)) / m\n",
    "        gradb1 = np.sum(V1, axis=1).reshape((-1,1)) / m\n",
    "        \n",
    "        # regularize weights that are not bias terms\n",
    "        gradW1 += self.l2_C * W1\n",
    "        gradW2 += self.l2_C * W2\n",
    "        gradW3 += self.l2_C * W3\n",
    "        gradW4 += self.l2_C * W4\n",
    "        \n",
    "        return gradW1, gradW2, gradW3, gradW4, gradb1, gradb2, gradb3, gradb4\n",
    "    \n",
    "    def fit (self, X, y, batch_size=32, print_progress=False):\n",
    "        \"\"\"Training without one-hot encoding for four layers.\"\"\"\n",
    "        X_data, y_data = X.values, y.values\n",
    "        \n",
    "        # Initialize weights\n",
    "        self.n_features_ = X_data.shape[1]\n",
    "        self.n_output_ = len(np.unique(y_data))\n",
    "        self.W1, self.W2, self.W3, self.W4, self.b1, self.b2, self.b3, self.b4 = self._initialize_weights()\n",
    "        \n",
    "        self.cost_ = []\n",
    "        self.grads_ = []\n",
    "        \n",
    "        for i in range(self.epochs):\n",
    "            indices = np.arange(X_data.shape[0])\n",
    "            np.random.shuffle(indices)\n",
    "            for start_idx in range(0, indices.shape[0] - batch_size + 1, batch_size):\n",
    "                batch_idx = indices[start_idx:start_idx + batch_size]\n",
    "                A1, Z1, A2, Z2, A3, Z3, A4, Z4, A5 = self._feedforward(X_data[batch_idx], self.W1, self.W2, self.W3, self.W4, self.b1, self.b2, self.b3, self.b4)\n",
    "                \n",
    "                cost = self._cost(A5, y_data[batch_idx], self.W1, self.W2, self.W3, self.W4)\n",
    "                self.cost_.append(cost)\n",
    "                \n",
    "                gradW1, gradW2, gradW3, gradW4, gradb1, gradb2, gradb3, gradb4 = self._get_gradient(A1=A1, A2=A2, A3=A3, A4=A4, A5=A5, Z1=Z1, Z2=Z2, Z3=Z3, Z4=Z4,\n",
    "                                                                                                    Y=y_data[batch_idx], W1=self.W1, W2=self.W2, W3=self.W3, W4=self.W4)\n",
    "                \n",
    "                self.W1 -= self.eta * gradW1\n",
    "                self.W2 -= self.eta * gradW2\n",
    "                self.W3 -= self.eta * gradW3\n",
    "                self.W4 -= self.eta * gradW4\n",
    "                self.b1 -= self.eta * gradb1\n",
    "                self.b2 -= self.eta * gradb2\n",
    "                self.b3 -= self.eta * gradb3\n",
    "                self.b4 -= self.eta * gradb4\n",
    "                \n",
    "                grads = [\n",
    "                    np.mean(np.abs(gradW1)), \n",
    "                    np.mean(np.abs(gradW2)),\n",
    "                    np.mean(np.abs(gradW3)),\n",
    "                    np.mean(np.abs(gradW4))\n",
    "                ]\n",
    "                self.grads_.append(grads)\n",
    "                \n",
    "            if print_progress and (i + 1) % print_progress == 0:\n",
    "                sys.stderr.write(f'\\rEpoch: {i + 1}/{self.epochs}')\n",
    "                sys.stderr.flush()\n",
    "                        \n",
    "        return self\n",
    "        \n",
    "X_train = train_data.drop(columns=['ChildPovertyClass'])\n",
    "y_train = train_data['ChildPovertyClass']\n",
    "X_test = test_data.drop(columns=['ChildPovertyClass'])\n",
    "y_test = test_data['ChildPovertyClass']\n",
    "\n",
    "params = dict(n_hidden=50, n_hidden2=50, n_hidden3=50, C=0.1, epochs=400, eta=0.001, random_state=1)\n",
    "nn_4 = FourLayerPerceptronVectorized(**params)\n",
    "nn_4.fit(X_train, y_train, batch_size=32, print_progress=50)\n",
    "yhat = nn_4.predict(X_test)\n",
    "accuracy = accuracy_score(y_test, yhat)\n",
    "print(f'Accuracy: {accuracy}')\n",
    "plt.plot(nn.cost_)\n",
    "plt.xlabel('Epochs')\n",
    "plt.ylabel('Loss')\n",
    "plt.title('Four Layer Loss Convergence')\n",
    "plt.show()   "
   ],
   "outputs": [
    {
     "name": "stderr",
     "output_type": "stream",
     "text": [
      "Epoch: 400/400"
     ]
    },
    {
     "name": "stdout",
     "output_type": "stream",
     "text": [
      "Accuracy: 0.2495874587458746\n"
     ]
    },
    {
     "data": {
      "text/plain": [
       "<Figure size 640x480 with 1 Axes>"
      ],
      "image/png": "[encoded data removed]"
     },
     "metadata": {},
     "output_type": "display_data"
    }
   ],
   "execution_count": 66
  },
  {
   "metadata": {},
   "cell_type": "markdown",
   "source": "### Five Layer Perceptron"
  },
  {
   "metadata": {
    "ExecuteTime": {
     "end_time": "2024-11-03T10:45:21.575455Z",
     "start_time": "2024-11-03T10:37:41.072939Z"
    }
   },
   "cell_type": "code",
   "source": [
    "class FiveLayerPerceptronBase(FourLayerPerceptronBase):\n",
    "    def __init__(self, n_hidden=30, n_hidden2=30, n_hidden3=30, n_hidden4=30, C=0.0, epochs=500, eta=0.001, random_state=None):\n",
    "        super().__init__(n_hidden=n_hidden, n_hidden2=n_hidden2, n_hidden3=n_hidden3, C=C, epochs=epochs, eta=eta, random_state=random_state)\n",
    "        self.n_hidden4 = n_hidden4\n",
    "\n",
    "    def _initialize_weights(self):\n",
    "        \"\"\"Initialize weights for five layers.\"\"\"\n",
    "        limit1 = np.sqrt(6 / (self.n_features_ + self.n_hidden))\n",
    "        W1 = np.random.uniform(-limit1, limit1, (self.n_hidden, self.n_features_))\n",
    "        b1 = np.zeros((self.n_hidden, 1))\n",
    "        \n",
    "        limit2 = np.sqrt(6 / (self.n_hidden + self.n_hidden2))\n",
    "        W2 = np.random.uniform(-limit2, limit2, (self.n_hidden2, self.n_hidden))\n",
    "        b2 = np.zeros((self.n_hidden2, 1))\n",
    "\n",
    "        limit3 = np.sqrt(6 / (self.n_hidden2 + self.n_hidden3))\n",
    "        W3 = np.random.uniform(-limit3, limit3, (self.n_hidden3, self.n_hidden2))\n",
    "        b3 = np.zeros((self.n_hidden3, 1))\n",
    "\n",
    "        limit4 = np.sqrt(6 / (self.n_hidden3 + self.n_hidden4))\n",
    "        W4 = np.random.uniform(-limit4, limit4, (self.n_hidden4, self.n_hidden3))\n",
    "        b4 = np.zeros((self.n_hidden4, 1))\n",
    "\n",
    "        limit5 = np.sqrt(6 / (self.n_hidden4 + self.n_output_))\n",
    "        W5 = np.random.uniform(-limit5, limit5, (self.n_output_, self.n_hidden4))\n",
    "        b5 = np.zeros((self.n_output_, 1))\n",
    "        \n",
    "        return W1, W2, W3, W4, W5, b1, b2, b3, b4, b5\n",
    "    \n",
    "    @staticmethod\n",
    "    def _L2_reg(lambda_, W1, W2, W3, W4, W5):\n",
    "        \"\"\"Compute L2-regularization cost for five layers.\"\"\"\n",
    "        return (lambda_) * np.sqrt(np.mean(W1 ** 2) + np.mean(W2 ** 2) + np.mean(W3 ** 2) + np.mean(W4 ** 2) + np.mean(W5 ** 2))\n",
    "    \n",
    "    def _cost(self, A6, Y, W1, W2, W3, W4, W5):\n",
    "        \"\"\"Get the objective function value for five layers.\"\"\"\n",
    "        m = Y.shape[0]\n",
    "        log_probs = -np.log(A6[Y, np.arange(m)])\n",
    "        cost = np.sum(log_probs) / m\n",
    "        L2_term = self._L2_reg(self.l2_C, W1, W2, W3, W4, W5)\n",
    "        return cost + L2_term\n",
    "    \n",
    "class FiveLayerPerceptron(FiveLayerPerceptronBase):\n",
    "    def _feedforward(self, X, W1, W2, W3, W4, W5, b1, b2, b3, b4, b5):\n",
    "        \"\"\"Compute feedforward step for five layers.\"\"\"\n",
    "        A1 = X.T\n",
    "        Z1 = W1 @ A1 + b1\n",
    "        A2 = self._sigmoid(Z1)\n",
    "        Z2 = W2 @ A2 + b2\n",
    "        A3 = self._sigmoid(Z2)\n",
    "        Z3 = W3 @ A3 + b3\n",
    "        A4 = self._sigmoid(Z3)\n",
    "        Z4 = W4 @ A4 + b4\n",
    "        A5 = self._sigmoid(Z4)\n",
    "        Z5 = W5 @ A5 + b5\n",
    "        A6 = self._sigmoid(Z5).reshape(self.n_output_, -1)\n",
    "        return A1, Z1, A2, Z2, A3, Z3, A4, Z4, A5, Z5, A6\n",
    "    \n",
    "    def predict(self, X):\n",
    "        \"\"\"Predict class labels for five layers.\"\"\"\n",
    "        X = X.values\n",
    "        \n",
    "        _, _, _, _, _, _, _, _, _, _, A6 = self._feedforward(X, self.W1, self.W2, self.W3, self.W4, self.W5, self.b1, self.b2, self.b3, self.b4, self.b5)\n",
    "        y_pred = np.argmax(A6, axis=0) if A6.shape[0] == self.n_output_ else np.argmax(A6.T, axis=1)\n",
    "        return y_pred\n",
    "\n",
    "class FiveLayerPerceptronVectorized(FiveLayerPerceptron):\n",
    "    def _get_gradient(self, A1, A2, A3, A4, A5, A6, Z1, Z2, Z3, Z4, Z5, Y, W1, W2, W3, W4, W5):\n",
    "        \"\"\"Compute gradient step using backpropagation for five layers.\"\"\"\n",
    "        m = Y.shape[0]\n",
    "        Y_expanded = np.zeros_like(A6)\n",
    "        Y_expanded[Y, np.arange(m)] = 1\n",
    "        # vectorized backpropagation\n",
    "        V5 = (A6 - Y_expanded) * A6 * (1 - A6)\n",
    "        V4 = (W5.T @ V5) * A5 * (1 - A5)\n",
    "        V3 = (W4.T @ V4) * A4 * (1 - A4)\n",
    "        V2 = (W3.T @ V3) * A3 * (1 - A3)\n",
    "        V1 = (W2.T @ V2) * A2 * (1 - A2)\n",
    "        \n",
    "        gradW5 = V5 @ A5.T / m\n",
    "        gradW4 = V4 @ A4.T / m\n",
    "        gradW3 = V3 @ A3.T / m\n",
    "        gradW2 = V2 @ A2.T / m\n",
    "        gradW1 = V1 @ A1.T / m\n",
    "        \n",
    "        gradb5 = np.sum(V5, axis=1).reshape((-1,1)) / m\n",
    "        gradb4 = np.sum(V4, axis=1).reshape((-1,1)) / m\n",
    "        gradb3 = np.sum(V3, axis=1).reshape((-1,1)) / m\n",
    "        gradb2 = np.sum(V2, axis=1).reshape((-1,1)) / m\n",
    "        gradb1 = np.sum(V1, axis=1).reshape((-1,1)) / m\n",
    "        \n",
    "        # regularize weights that are not bias terms\n",
    "        gradW1 += self.l2_C * W1\n",
    "        gradW2 += self.l2_C * W2\n",
    "        gradW3 += self.l2_C * W3\n",
    "        gradW4 += self.l2_C * W4\n",
    "        gradW5 += self.l2_C * W5\n",
    "        \n",
    "        return gradW1, gradW2, gradW3, gradW4, gradW5, gradb1, gradb2, gradb3, gradb4, gradb5\n",
    "    \n",
    "    def fit(self, X, y, batch_size=32, print_progress=False):\n",
    "        \"\"\"Training without one-hot encoding for five layers.\"\"\"\n",
    "        X_data, y_data = X.values, y.values\n",
    "        \n",
    "        # Initialize weights\n",
    "        self.n_features_ = X_data.shape[1]\n",
    "        self.n_output_ = len(np.unique(y_data))\n",
    "        self.W1, self.W2, self.W3, self.W4, self.W5, self.b1, self.b2, self.b3, self.b4, self.b5 = self._initialize_weights()\n",
    "        \n",
    "        self.cost_ = []\n",
    "        self.grads_ = []\n",
    "        \n",
    "        for i in range(self.epochs):\n",
    "            indices = np.arange(X_data.shape[0])\n",
    "            np.random.shuffle(indices)\n",
    "            for start_idx in range(0, indices.shape[0] - batch_size + 1, batch_size):\n",
    "                batch_idx = indices[start_idx:start_idx + batch_size]\n",
    "                A1, Z1, A2, Z2, A3, Z3, A4, Z4, A5, Z5, A6 = self._feedforward(X_data[batch_idx], self.W1, self.W2, self.W3, self.W4, self.W5, self.b1, self.b2, self.b3, self.b4, self.b5)\n",
    "                \n",
    "                cost = self._cost(A6, y_data[batch_idx], self.W1, self.W2, self.W3, self.W4, self.W5)\n",
    "                self.cost_.append(cost)\n",
    "                \n",
    "                gradW1, gradW2, gradW3, gradW4, gradW5, gradb1, gradb2, gradb3, gradb4, gradb5 = self._get_gradient(A1=A1, A2=A2, A3=A3, A4=A4, A5=A5, A6=A6, Z1=Z1, Z2=Z2, Z3=Z3, Z4=Z4, Z5=Z5,\n",
    "                                                                                                        Y=y_data[batch_idx], W1=self.W1, W2=self.W2, W3=self.W3, W4=self.W4, W5=self.W5)\n",
    "                self.W1 -= self.eta * gradW1\n",
    "                self.W2 -= self.eta * gradW2\n",
    "                self.W3 -= self.eta * gradW3\n",
    "                self.W4 -= self.eta * gradW4\n",
    "                self.W5 -= self.eta * gradW5\n",
    "                self.b1 -= self.eta * gradb1\n",
    "                self.b2 -= self.eta * gradb2\n",
    "                self.b3 -= self.eta * gradb3\n",
    "                self.b4 -= self.eta * gradb4\n",
    "                self.b5 -= self.eta * gradb5\n",
    "                \n",
    "                grads = [\n",
    "                    np.mean(np.abs(gradW1)), \n",
    "                    np.mean(np.abs(gradW2)),\n",
    "                    np.mean(np.abs(gradW3)),\n",
    "                    np.mean(np.abs(gradW4)),\n",
    "                    np.mean(np.abs(gradW5))\n",
    "                ]\n",
    "                self.grads_.append(grads)\n",
    "                \n",
    "            if print_progress and (i + 1) % print_progress == 0:\n",
    "                sys.stderr.write(f'\\rEpoch: {i + 1}/{self.epochs}')\n",
    "                sys.stderr.flush()\n",
    "                \n",
    "        return self\n",
    "    \n",
    "X_train = train_data.drop(columns=['ChildPovertyClass'])\n",
    "y_train = train_data['ChildPovertyClass']\n",
    "X_test = test_data.drop(columns=['ChildPovertyClass'])\n",
    "y_test = test_data['ChildPovertyClass']\n",
    "\n",
    "params = dict(n_hidden=50, n_hidden2=50, n_hidden3=50, n_hidden4=50, C=0.1, epochs=400, eta=0.001, random_state=1)\n",
    "\n",
    "nn_5 = FiveLayerPerceptronVectorized(**params)\n",
    "nn_5.fit(X_train, y_train, batch_size=32, print_progress=50)\n",
    "yhat = nn_5.predict(X_test)\n",
    "accuracy = accuracy_score(y_test, yhat)\n",
    "print(f'Accuracy: {accuracy}')\n",
    "\n",
    "plt.plot(nn.cost_)\n",
    "plt.xlabel('Epochs')\n",
    "plt.ylabel('Loss')\n",
    "plt.title('Five Layer Loss Convergence')\n",
    "plt.show()\n",
    "                "
   ],
   "outputs": [
    {
     "name": "stderr",
     "output_type": "stream",
     "text": [
      "Epoch: 400/400"
     ]
    },
    {
     "name": "stdout",
     "output_type": "stream",
     "text": [
      "Accuracy: 0.2495874587458746\n"
     ]
    },
    {
     "data": {
      "text/plain": [
       "<Figure size 640x480 with 1 Axes>"
      ],
      "image/png": "[encoded data removed]"
     },
     "metadata": {},
     "output_type": "display_data"
    }
   ],
   "execution_count": 67
  }
 ],
 "metadata": {
  "kernelspec": {
   "display_name": "base",
   "language": "python",
   "name": "python3"
  },
  "language_info": {
   "codemirror_mode": {
    "name": "ipython",
    "version": 3
   },
   "file_extension": ".py",
   "mimetype": "text/x-python",
   "name": "python",
   "nbconvert_exporter": "python",
   "pygments_lexer": "ipython3",
   "version": "3.11.4"
  }
 },
 "nbformat": 4,
 "nbformat_minor": 2
}
